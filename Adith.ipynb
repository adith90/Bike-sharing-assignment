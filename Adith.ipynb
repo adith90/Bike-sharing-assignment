{
 "cells": [
  {
   "cell_type": "code",
   "execution_count": null,
   "metadata": {},
   "outputs": [],
   "source": [
    "import numpy as np\n",
    "import pandas as pd\n",
    "import matplotlib.pyplot as plt\n",
    "import seaborn as sns\n",
    "import statsmodels.api as sm\n",
    "from statsmodels.stats.outliers_influence import variance_inflation_factor\n",
    "\n",
    "import warnings\n",
    "warnings.filterwarnings('ignore')"
   ]
  },
  {
   "cell_type": "markdown",
   "metadata": {},
   "source": [
    "### Reading, Understanding and Quality Check of the data"
   ]
  },
  {
   "cell_type": "code",
   "execution_count": null,
   "metadata": {},
   "outputs": [],
   "source": [
    "df = pd.read_csv('./day.csv')"
   ]
  },
  {
   "cell_type": "code",
   "execution_count": null,
   "metadata": {},
   "outputs": [],
   "source": [
    "df.head()"
   ]
  },
  {
   "cell_type": "code",
   "execution_count": null,
   "metadata": {},
   "outputs": [],
   "source": [
    "df.info()"
   ]
  },
  {
   "cell_type": "markdown",
   "metadata": {},
   "source": [
    "- There is no missing values from the above"
   ]
  },
  {
   "cell_type": "code",
   "execution_count": null,
   "metadata": {},
   "outputs": [],
   "source": [
    "# Checking for the missing values\n",
    "\n",
    "df.isnull().sum()"
   ]
  },
  {
   "cell_type": "code",
   "execution_count": null,
   "metadata": {},
   "outputs": [],
   "source": [
    "# Check the statistical desciption of numerical columns of dataframe\n",
    "\n",
    "df.describe()"
   ]
  },
  {
   "cell_type": "markdown",
   "metadata": {},
   "source": [
    "#### Visualizing Data with Continuous Variables"
   ]
  },
  {
   "cell_type": "code",
   "execution_count": null,
   "metadata": {},
   "outputs": [],
   "source": [
    "df = df.drop(columns=['instant','dteday','casual','registered'])"
   ]
  },
  {
   "cell_type": "markdown",
   "metadata": {},
   "source": [
    "These variables were removed because they didn’t add unique insights for the analysis:\n",
    "\n",
    "- Instant: It’s simply a serial number, so it doesn't contribute meaningful information.\n",
    "- Dteday: This variable is redundant as month and year (mnth, yr) already capture the necessary date details.\n",
    "- Casual and Registered: These variables were combined into cnt, which represents the total count, making them unnecessary individually."
   ]
  },
  {
   "cell_type": "code",
   "execution_count": null,
   "metadata": {},
   "outputs": [],
   "source": [
    "# summary statistics of numerical variables\n",
    "df[['temp','atemp','hum','windspeed']].describe()"
   ]
  },
  {
   "cell_type": "code",
   "execution_count": null,
   "metadata": {},
   "outputs": [],
   "source": [
    "# Scatter Plots of Continuous variables vs 'cnt'\n",
    "sns.set_style(\"whitegrid\")\n",
    "sns.pairplot(data=df,x_vars=['temp','atemp','hum','windspeed'],y_vars='cnt',kind='scatter',height=5,aspect=1);"
   ]
  },
  {
   "cell_type": "markdown",
   "metadata": {},
   "source": [
    "Analyzing Outliers in Continuous Variables Relative to cnt"
   ]
  },
  {
   "cell_type": "code",
   "execution_count": null,
   "metadata": {},
   "outputs": [],
   "source": [
    "\n",
    "# Dropping outliers in temp\n",
    "df = df.drop(index = df[(df['temp'] > 15) & (df['temp'] < 20) & (df['cnt'] < 100)].index)\n",
    "df = df.drop(index = df[(df['temp'] > 25) & (df['temp'] < 30) & (df['cnt'] < 2000)].index)\n",
    "\n",
    "\n",
    "# Dropping outliers in atemp\n",
    "df = df.drop(index = df[(df['atemp'] > 20) & (df['atemp'] < 25) & (df['cnt'] < 100)].index)\n",
    "df = df.drop(index = df[(df['atemp'] > 30) & (df['atemp'] < 35) & (df['cnt'] < 2000)].index)\n",
    "\n",
    "\n",
    "# Dropping outliers in hum\n",
    "df = df.drop(index = df[(df['hum'] < 20)].index)\n",
    "\n",
    "# Dropping outliers in windspeed\n",
    "df = df.drop(index = df[(df['windspeed'] > 30)].index)"
   ]
  },
  {
   "cell_type": "code",
   "execution_count": null,
   "metadata": {},
   "outputs": [],
   "source": [
    "correlation = df[['temp','atemp','hum','windspeed','cnt']].corr()['cnt'].apply(lambda x : round(x,4))\n",
    "correlation = pd.DataFrame(correlation).sort_values(by='cnt',ascending=False)\n",
    "correlation.drop(index=['cnt'],inplace=True)\n",
    "# dropping registered,casual, instant\n",
    "correlation.style.background_gradient(cmap='GnBu')"
   ]
  },
  {
   "cell_type": "code",
   "execution_count": null,
   "metadata": {},
   "outputs": [],
   "source": [
    "# correlation between temp and atemp\n",
    "df[['temp','atemp']].corr()"
   ]
  },
  {
   "cell_type": "code",
   "execution_count": null,
   "metadata": {},
   "outputs": [],
   "source": [
    "df = df.drop(columns=['atemp'])"
   ]
  },
  {
   "cell_type": "code",
   "execution_count": null,
   "metadata": {},
   "outputs": [],
   "source": [
    "df[['temp','hum','windspeed']].corr()"
   ]
  },
  {
   "cell_type": "markdown",
   "metadata": {},
   "source": [
    "- Since atemp does not show a significant correlation with hum or windspeed, these variables will not be removed from the dataset at this time."
   ]
  },
  {
   "cell_type": "markdown",
   "metadata": {},
   "source": [
    "### Exploring Visual Representations of Categorical Variables"
   ]
  },
  {
   "cell_type": "code",
   "execution_count": null,
   "metadata": {},
   "outputs": [],
   "source": [
    "# Changing Variables to Categorical Data Type\n",
    "df[['season','weathersit','mnth']] = df[['season','weathersit','mnth']].astype('category')"
   ]
  },
  {
   "cell_type": "code",
   "execution_count": null,
   "metadata": {},
   "outputs": [],
   "source": [
    "# Check for disguised missing values]\n",
    "cat_vars = ['season','yr','mnth','holiday','weekday','workingday','weathersit']\n",
    "for i in cat_vars : \n",
    "    print('Unique values in ',i, df[i].unique())"
   ]
  },
  {
   "cell_type": "code",
   "execution_count": null,
   "metadata": {},
   "outputs": [],
   "source": [
    "# Replacing numbers with labels \n",
    "season_labels = {\n",
    "    1 : 'spring',\n",
    "    2 : 'summer',\n",
    "    3 : 'fall',\n",
    "    4 : 'winter'\n",
    "}\n",
    "\n",
    "mnth_labels = {\n",
    "    1 : 'january',\n",
    "    2 : 'february',\n",
    "    3 : 'march',\n",
    "    4 : 'april',\n",
    "    5 : 'may',\n",
    "    6 : 'june',\n",
    "    7 : 'july',\n",
    "    8 : 'august',\n",
    "    9 : 'september',\n",
    "    10 : 'october',\n",
    "    11 : 'november',\n",
    "    12 : 'december'\n",
    "}\n",
    "\n",
    "weekday_labels = { # considering the first row of dteday to be 01-01-2011\n",
    "    0 : 'Sunday',\n",
    "    1 : 'Monday',\n",
    "    2 : 'Tuesday',\n",
    "    3 : 'Wednesday',\n",
    "    4 : 'Thursday',\n",
    "    5 : 'Friday',\n",
    "    6 : 'Saturday'\n",
    "}\n",
    "\n",
    "weathersit_labels = {\n",
    "    1 : 'clear',\n",
    "    2 : 'cloudy',\n",
    "    3 : 'light snow/rain'\n",
    "}\n",
    "\n",
    "# replacing numerals with labels \n",
    "df['season'] = df['season'].replace(season_labels)\n",
    "df['mnth'] = df['mnth'].replace(mnth_labels)\n",
    "df['weekday'] = df['weekday'].replace(weekday_labels)\n",
    "df['weathersit'] = df['weathersit'].replace(weathersit_labels)\n",
    "\n",
    "df.head()"
   ]
  },
  {
   "cell_type": "code",
   "execution_count": null,
   "metadata": {},
   "outputs": [],
   "source": [
    "cat_vars = ['season','yr','mnth','holiday','weekday',  'workingday','weathersit']\n",
    "df1 = df[cat_vars]\n",
    "df1.loc[:,'cnt'] = df['cnt'].values\n",
    "df1[['yr','holiday','workingday']] = df1[['yr','holiday','workingday']].astype('category')\n",
    "plot_dim = [3,3]\n",
    "fig,axs = plt.subplots(*plot_dim)\n",
    "fig.set_figheight(15)\n",
    "fig.set_figwidth(20)\n",
    "for i in range(plot_dim[0]) :  \n",
    "    for j in range(plot_dim[1]) :\n",
    "        axs[i,j].set(title = i*plot_dim[1]+j)\n",
    "        sns.boxplot(data=df1,x='cnt',y=cat_vars[i*plot_dim[1]+j],width=0.4,ax=axs[i,j])\n",
    "        if i*plot_dim[1]+j == 6 : \n",
    "            break\n",
    "axs[2,1].set_axis_off()\n",
    "axs[2,2].set_axis_off()"
   ]
  },
  {
   "cell_type": "markdown",
   "metadata": {},
   "source": [
    "Seasonal Trends:\n",
    "\n",
    "- Fall emerges as the peak season for rentals, surpassing even the summer months.\n",
    "- September stands out as the month with the highest rental volume, closely followed by its neighboring months.\n",
    "\n",
    "Year-over-Year Comparison:\n",
    "\n",
    "- 2019 witnessed a substantial increase in rentals compared to 2018, with a median growth of approximately 2000 units.\n",
    "\n",
    "Weekday vs. Holiday Rentals:\n",
    "\n",
    "- Weekdays generally exhibit more consistent rental patterns, with relatively stable demand throughout the week.\n",
    "- Holidays tend to have lower overall rental counts, but with greater fluctuations in demand. Thursdays and Sundays show slightly higher variability in rental numbers compared to other weekdays.\n",
    "\n",
    "Overall Trend:\n",
    "\n",
    "- The observed trends suggest a significant influence of seasonal factors on rental demand, particularly the impact of fall and September.\n",
    "- Additionally, the analysis highlights the importance of weekdays and holidays in shaping rental patterns."
   ]
  },
  {
   "cell_type": "code",
   "execution_count": null,
   "metadata": {},
   "outputs": [],
   "source": [
    "\n",
    "# Drop rows where season is 'spring' and cnt is greater than 7000\n",
    "df = df.drop(index=df[(df['season'] == 'spring') & (df['cnt'] > 7000)].index)\n"
   ]
  },
  {
   "cell_type": "code",
   "execution_count": null,
   "metadata": {},
   "outputs": [],
   "source": [
    "# Select only the numeric columns for correlation\n",
    "numeric_df = df.select_dtypes(include=['float64', 'int64'])\n",
    "\n",
    "# Plot the heatmap with only numeric columns\n",
    "plt.figure(figsize=[10,10])\n",
    "sns.heatmap(numeric_df.corr(), cmap='GnBu', center=0, annot=True)\n",
    "plt.show()\n"
   ]
  },
  {
   "cell_type": "markdown",
   "metadata": {},
   "source": [
    "Preparing the Data for Analysis"
   ]
  },
  {
   "cell_type": "markdown",
   "metadata": {},
   "source": [
    "Creating Binary Variables"
   ]
  },
  {
   "cell_type": "code",
   "execution_count": null,
   "metadata": {},
   "outputs": [],
   "source": [
    "# creating indicator variable columns\n",
    "season_indicators = pd.get_dummies(df['season'],drop_first=True)\n",
    "mnth_indicators = pd.get_dummies(df['mnth'],drop_first=True)\n",
    "weekday_indicators = pd.get_dummies(df['weekday'],drop_first=True)\n",
    "weathersit_indicators = pd.get_dummies(df['weathersit'],drop_first=True)"
   ]
  },
  {
   "cell_type": "code",
   "execution_count": null,
   "metadata": {},
   "outputs": [],
   "source": [
    "\n",
    "df = pd.concat([df,season_indicators,mnth_indicators,weekday_indicators,weathersit_indicators],axis=1)\n",
    "df = df.drop(columns=['season','mnth','weekday','weathersit'])"
   ]
  },
  {
   "cell_type": "code",
   "execution_count": null,
   "metadata": {},
   "outputs": [],
   "source": [
    "df.head()"
   ]
  },
  {
   "cell_type": "code",
   "execution_count": null,
   "metadata": {},
   "outputs": [],
   "source": [
    "df.columns"
   ]
  },
  {
   "cell_type": "markdown",
   "metadata": {},
   "source": [
    "Dividing Data into Training and Testing Sets"
   ]
  },
  {
   "cell_type": "code",
   "execution_count": null,
   "metadata": {},
   "outputs": [],
   "source": [
    "from sklearn.model_selection import train_test_split"
   ]
  },
  {
   "cell_type": "code",
   "execution_count": null,
   "metadata": {},
   "outputs": [],
   "source": [
    "dtrain,dtest = train_test_split(df,train_size=0.7,test_size=0.3,random_state=120)"
   ]
  },
  {
   "cell_type": "markdown",
   "metadata": {},
   "source": [
    "Standardizing Numerical Features"
   ]
  },
  {
   "cell_type": "code",
   "execution_count": null,
   "metadata": {},
   "outputs": [],
   "source": [
    "# normalization of continuous variables\n",
    "from sklearn.preprocessing import MinMaxScaler \n",
    "numerical_scaler = MinMaxScaler()\n",
    "num_vars = ['temp','hum','windspeed']\n",
    "\n",
    "numerical_scaler.fit(dtrain[num_vars])\n",
    "dtrain[num_vars] = numerical_scaler.transform(dtrain[num_vars])"
   ]
  },
  {
   "cell_type": "markdown",
   "metadata": {},
   "source": [
    "X_train , y_train"
   ]
  },
  {
   "cell_type": "code",
   "execution_count": null,
   "metadata": {},
   "outputs": [],
   "source": [
    "y_train = dtrain.pop('cnt')\n",
    "X_train = dtrain"
   ]
  },
  {
   "cell_type": "code",
   "execution_count": null,
   "metadata": {},
   "outputs": [],
   "source": [
    "y_train.head()"
   ]
  },
  {
   "cell_type": "code",
   "execution_count": null,
   "metadata": {},
   "outputs": [],
   "source": [
    "X_train.head()"
   ]
  },
  {
   "cell_type": "code",
   "execution_count": null,
   "metadata": {},
   "outputs": [],
   "source": [
    "X_train.columns\n"
   ]
  },
  {
   "cell_type": "code",
   "execution_count": null,
   "metadata": {},
   "outputs": [],
   "source": [
    "# Selecting 15 Features using RFE \n",
    "\n",
    "from sklearn.feature_selection import RFE\n",
    "from sklearn.linear_model import LinearRegression\n",
    "\n",
    "lr_estimator = LinearRegression()\n",
    "rfe = RFE(lr_estimator,n_features_to_select=15, step=1)\n",
    "selector = rfe.fit(X_train,y_train)"
   ]
  },
  {
   "cell_type": "code",
   "execution_count": null,
   "metadata": {},
   "outputs": [],
   "source": [
    "# RFE Feature Ranking\n",
    "rfe_ranking = pd.DataFrame({'rank' : selector.ranking_, 'support': selector.support_, 'features' : X_train.columns}).sort_values(by='rank',ascending=True)\n",
    "rfe_ranking"
   ]
  },
  {
   "cell_type": "code",
   "execution_count": null,
   "metadata": {},
   "outputs": [],
   "source": [
    "# Selected Features\n",
    "selected_features = rfe_ranking.loc[rfe_ranking['rank'] == 1,'features'].values\n",
    "selected_features"
   ]
  },
  {
   "cell_type": "code",
   "execution_count": null,
   "metadata": {},
   "outputs": [],
   "source": [
    "# Following a stepwise elimination\n",
    "import statsmodels.api as sm\n",
    "def ols_fit(y,X) : \n",
    "    X_train_sm = sm.add_constant(X)\n",
    "    model = sm.OLS(y,X_train_sm).fit()\n",
    "    print(model.summary())\n",
    "    return model\n",
    "def vif(X) : \n",
    "    df = sm.add_constant(X)\n",
    "    vif = [variance_inflation_factor(df.values,i) for i in range(df.shape[1])]\n",
    "    vif_frame = pd.DataFrame({'vif' : vif[0:]},index = df.columns).reset_index()\n",
    "    print(vif_frame.sort_values(by='vif',ascending=False))\n"
   ]
  },
  {
   "cell_type": "markdown",
   "metadata": {},
   "source": [
    "Model \n",
    " * Using features selected by RFE : 'yr', 'Sunday', 'Saturday', 'november', 'january', 'december',\n",
    " 'winter', 'july', 'spring', 'holiday', 'workingday', 'hum', 'temp',\n",
    " 'windspeed', 'light snow/rain'"
   ]
  },
  {
   "cell_type": "code",
   "execution_count": null,
   "metadata": {},
   "outputs": [],
   "source": [
    "features_1 = selected_features\n",
    "ols_fit(y_train,X_train[features_1])"
   ]
  },
  {
   "cell_type": "code",
   "execution_count": null,
   "metadata": {},
   "outputs": [],
   "source": [
    "del_feature = 'holiday'\n",
    "selected_features = selected_features[selected_features!=del_feature]\n",
    "ols_fit(y_train,X_train[selected_features])"
   ]
  },
  {
   "cell_type": "code",
   "execution_count": null,
   "metadata": {},
   "outputs": [],
   "source": [
    "del_feature = 'Sunday'\n",
    "selected_features = selected_features[selected_features!=del_feature]\n",
    "ols_fit(y_train,X_train[selected_features])"
   ]
  },
  {
   "cell_type": "code",
   "execution_count": null,
   "metadata": {},
   "outputs": [],
   "source": [
    "del_feature = 'january'\n",
    "selected_features = selected_features[selected_features!=del_feature]\n",
    "ols_fit(y_train,X_train[selected_features])"
   ]
  },
  {
   "cell_type": "code",
   "execution_count": null,
   "metadata": {},
   "outputs": [],
   "source": [
    "del_feature = 'december'\n",
    "selected_features = selected_features[selected_features!=del_feature]\n",
    "ols_fit(y_train,X_train[selected_features])"
   ]
  },
  {
   "cell_type": "code",
   "execution_count": null,
   "metadata": {},
   "outputs": [],
   "source": [
    "del_feature = 'november'\n",
    "selected_features = selected_features[selected_features!=del_feature]\n",
    "final_model = ols_fit(y_train,X_train[selected_features])"
   ]
  },
  {
   "cell_type": "code",
   "execution_count": null,
   "metadata": {},
   "outputs": [],
   "source": [
    "vif(X_train[selected_features])"
   ]
  },
  {
   "cell_type": "code",
   "execution_count": null,
   "metadata": {},
   "outputs": [],
   "source": [
    "final_model = ols_fit(y_train,X_train[selected_features])"
   ]
  },
  {
   "cell_type": "code",
   "execution_count": null,
   "metadata": {},
   "outputs": [],
   "source": [
    "# Residual Analysis of Trained Data\n",
    "X_train_sm = sm.add_constant(X_train[selected_features])\n",
    "\n",
    "y_train_pred = final_model.predict(X_train_sm)\n",
    "fig,ax = plt.subplots(1,2)\n",
    "fig.set_figheight(8)\n",
    "fig.set_figwidth(16)\n",
    "\n",
    "ax[0].set(title='Frequency Distribution of Residuals')\n",
    "sns.distplot(y_train-y_train_pred, bins=30, ax=ax[0])\n",
    "\n",
    "ax[1].set(title='Predicted Values vs Residuals')\n",
    "\\\n",
    "sns.regplot(y_train_pred,y_train-y_train_pred,ax=ax[1])\n",
    "plt.show()\n"
   ]
  },
  {
   "cell_type": "code",
   "execution_count": null,
   "metadata": {},
   "outputs": [],
   "source": [
    "# Mean of Residuals\n",
    "(y_train-y_train_pred).mean()"
   ]
  },
  {
   "cell_type": "code",
   "execution_count": null,
   "metadata": {},
   "outputs": [],
   "source": [
    "# Verifying the normality of distribution of residuals \n",
    "mean = (y_train-y_train_pred).mean()\n",
    "std = (y_train-y_train_pred).std()\n",
    "\n",
    "ref_normal = np.random.normal(mean,std,(y_train-y_train_pred).shape[0])\n",
    "\n",
    "\n",
    "percs = np.linspace(0,100,21)\n",
    "qn_ref_normal = np.percentile(ref_normal, percs)\n",
    "qn_residual = np.percentile(y_train - y_train_pred , percs)\n",
    "\n",
    "plt.plot(qn_ref_normal,qn_residual, ls=\"\", marker=\"o\")\n",
    "\n",
    "x = np.linspace(np.min((qn_ref_normal.min(),qn_residual.min())), np.max((qn_ref_normal.max(),qn_residual.max())))\n",
    "plt.plot(x,x, color=\"k\", ls=\"--\")\n",
    "plt.title('Q-Q Plot : Reference Normal vs Distribution of Residuals ')\n",
    "plt.show()\n"
   ]
  },
  {
   "cell_type": "markdown",
   "metadata": {},
   "source": [
    "Conclusion:-\n",
    "\n",
    "Based on the analysis, the following factors have a significant impact on shared bike demand:\n",
    "\n",
    "- Seasonality: Seasonal variations, particularly the preference for bike rentals during warmer months, play a crucial role.\n",
    "- Weather Conditions: Adverse weather conditions, such as heavy rain, snow, or strong winds, can significantly reduce demand.\n",
    "- Holidays and Weekends: Holidays and weekends often see increased demand as people engage in leisure activities and recreational rides.\n",
    "- Specific Months: Months like September, November, and December, potentially due to seasonal factors or specific events, exhibit higher rental demand.\n",
    "- Day of the Week: Sundays tend to have higher demand compared to other weekdays.\n",
    "- Temperature and Humidity: Optimal temperature and humidity levels can positively influence bike rentals.\n",
    "\n",
    "By understanding these factors, bike-sharing companies can make informed decisions regarding bike deployment, pricing strategies, and marketing campaigns to optimize their operations and meet customer demand effectively."
   ]
  },
  {
   "cell_type": "markdown",
   "metadata": {},
   "source": []
  }
 ],
 "metadata": {
  "kernelspec": {
   "display_name": "Python 3",
   "language": "python",
   "name": "python3"
  },
  "language_info": {
   "codemirror_mode": {
    "name": "ipython",
    "version": 3
   },
   "file_extension": ".py",
   "mimetype": "text/x-python",
   "name": "python",
   "nbconvert_exporter": "python",
   "pygments_lexer": "ipython3",
   "version": "3.12.1"
  }
 },
 "nbformat": 4,
 "nbformat_minor": 2
}
